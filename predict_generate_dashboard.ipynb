{
 "cells": [
  {
   "cell_type": "markdown",
   "metadata": {},
   "source": [
    "*Necessary imports and setups*"
   ]
  },
  {
   "cell_type": "code",
   "execution_count": 1,
   "metadata": {},
   "outputs": [],
   "source": [
    "#!pip install pandas seaborn matplotlib ipywidgets numpy statsmodels numpy"
   ]
  },
  {
   "cell_type": "code",
   "execution_count": 2,
   "metadata": {},
   "outputs": [
    {
     "name": "stdout",
     "output_type": "stream",
     "text": [
      "Enabling notebook extension jupyter-js-widgets/extension...\n",
      "      - Validating: \u001b[32mOK\u001b[0m\n"
     ]
    }
   ],
   "source": [
    "!jupyter nbextension enable --py widgetsnbextension"
   ]
  },
  {
   "cell_type": "code",
   "execution_count": 3,
   "metadata": {},
   "outputs": [],
   "source": [
    "from IPython.core.interactiveshell import InteractiveShell\n",
    "InteractiveShell.ast_node_interactivity = 'all'\n",
    "\n",
    "from numpy import arange\n",
    "import pandas as pd\n",
    "import seaborn as sns\n",
    "from matplotlib import pyplot as plt\n",
    "from datetime import datetime as dt\n",
    "import ipywidgets as widgets\n",
    "from statsmodels.tsa.arima.model import ARIMA\n",
    "from statsmodels.graphics.tsaplots import plot_predict\n",
    "import math\n",
    "from numpy import diff\n",
    "import warnings\n",
    "\n",
    "%matplotlib inline"
   ]
  },
  {
   "cell_type": "markdown",
   "metadata": {},
   "source": [
    "*Preparing dataset of target sales*"
   ]
  },
  {
   "cell_type": "code",
   "execution_count": 4,
   "metadata": {},
   "outputs": [
    {
     "name": "stderr",
     "output_type": "stream",
     "text": [
      "/var/folders/lf/s97_46wj3fj7npt_h0dbnnrh0000gn/T/ipykernel_44599/4265418173.py:10: DeprecationWarning: In a future version, `df.iloc[:, i] = newvals` will attempt to set the values inplace instead of always setting a new array. To retain the old behavior, use either `df[df.columns[i]] = newvals` or, if columns are non-unique, `df.isetitem(i, newvals)`\n",
      "  df_sales_target.loc[:,'Target_Sales_20_Target'] = list(map(lambda x: int(x.replace(',','')),df_sales_target.loc[:,'Target_Sales_20_Target']))\n",
      "/var/folders/lf/s97_46wj3fj7npt_h0dbnnrh0000gn/T/ipykernel_44599/4265418173.py:12: FutureWarning: The default value of numeric_only in DataFrameGroupBy.sum is deprecated. In a future version, numeric_only will default to False. Either specify numeric_only or select only columns which should be valid for the function.\n",
      "  df_sales_target = df_sales_target.groupby(['Target_Category','Target_Segment', 'month', 'year','datemask'], group_keys=False).sum().reset_index()\n"
     ]
    }
   ],
   "source": [
    "df_sales_target = pd.read_csv('Sales Target.csv', low_memory=False)\n",
    "\n",
    "df_sales_target.columns = list(map(lambda x: x[9:],df_sales_target.columns))\n",
    "#df_sales_target.columns\n",
    "\n",
    "df_sales_target['month'] = list(map(lambda x: x.split(' ')[1],df_sales_target['Target_Order_20_Date']))\n",
    "df_sales_target['year'] = list(map(lambda x: x.split(' ')[2],df_sales_target['Target_Order_20_Date']))\n",
    "df_sales_target['datemask'] = pd.to_datetime(df_sales_target['year'].astype(str)  + df_sales_target['month'], format='%Y%B')\n",
    "\n",
    "df_sales_target.loc[:,'Target_Sales_20_Target'] = list(map(lambda x: int(x.replace(',','')),df_sales_target.loc[:,'Target_Sales_20_Target']))\n",
    "\n",
    "df_sales_target = df_sales_target.groupby(['Target_Category','Target_Segment', 'month', 'year','datemask'], group_keys=False).sum().reset_index()\n",
    "\n",
    "df_sales_target.columns = ['Category','Segment','month','year','datemask','sales_target']\n",
    "\n",
    "df_sale_target = df_sales_target.sort_values(by=['datemask','Category','Segment'], ascending=True)"
   ]
  },
  {
   "cell_type": "markdown",
   "metadata": {},
   "source": [
    "*Preparing dataset of actual sales*"
   ]
  },
  {
   "cell_type": "code",
   "execution_count": 5,
   "metadata": {},
   "outputs": [
    {
     "name": "stderr",
     "output_type": "stream",
     "text": [
      "/var/folders/lf/s97_46wj3fj7npt_h0dbnnrh0000gn/T/ipykernel_44599/308041144.py:10: DeprecationWarning: In a future version, `df.iloc[:, i] = newvals` will attempt to set the values inplace instead of always setting a new array. To retain the old behavior, use either `df[df.columns[i]] = newvals` or, if columns are non-unique, `df.isetitem(i, newvals)`\n",
      "  df_sales_actual.loc[:,'Orders_Sales_2c__24_'] = list(map(lambda x: int(x.replace(',','')),df_sales_actual.loc[:,'Orders_Sales_2c__24_']))\n",
      "/var/folders/lf/s97_46wj3fj7npt_h0dbnnrh0000gn/T/ipykernel_44599/308041144.py:12: FutureWarning: The default value of numeric_only in DataFrameGroupBy.sum is deprecated. In a future version, numeric_only will default to False. Either specify numeric_only or select only columns which should be valid for the function.\n",
      "  df_sales_actual = df_sales_actual.groupby(['Orders_Category','Orders_Segment', 'month', 'year','datemask'], group_keys=False).sum().reset_index()[['Orders_Category','Orders_Segment','month','year','datemask','Orders_Sales_2c__24_']]\n"
     ]
    }
   ],
   "source": [
    "df_sales_actual = pd.read_csv('Sample - Orders.csv', low_memory=False)\n",
    "\n",
    "df_sales_actual.columns = list(map(lambda x: x[18:],df_sales_actual.columns))\n",
    "#df_sales_actual.columns\n",
    "\n",
    "df_sales_actual['month'] = list(map(lambda x: x.split(' ')[1],df_sales_actual['Orders_Order_20_Date']))\n",
    "df_sales_actual['year'] = list(map(lambda x: x.split(' ')[2],df_sales_actual['Orders_Order_20_Date']))\n",
    "df_sales_actual['datemask'] = pd.to_datetime(df_sales_actual['year'].astype(str)  + df_sales_actual['month'], format='%Y%B')\n",
    "\n",
    "df_sales_actual.loc[:,'Orders_Sales_2c__24_'] = list(map(lambda x: int(x.replace(',','')),df_sales_actual.loc[:,'Orders_Sales_2c__24_']))\n",
    "\n",
    "df_sales_actual = df_sales_actual.groupby(['Orders_Category','Orders_Segment', 'month', 'year','datemask'], group_keys=False).sum().reset_index()[['Orders_Category','Orders_Segment','month','year','datemask','Orders_Sales_2c__24_']]\n",
    "\n",
    "df_sales_actual.columns = ['Category','Segment','month','year','datemask','sales_actual']\n",
    "\n",
    "df_sales_actual = df_sales_actual.sort_values(by=['datemask','Category','Segment'], ascending=True)"
   ]
  },
  {
   "cell_type": "markdown",
   "metadata": {},
   "source": [
    "*Merging two available datasets*"
   ]
  },
  {
   "cell_type": "code",
   "execution_count": 6,
   "metadata": {},
   "outputs": [],
   "source": [
    "df_final = pd.merge(df_sales_actual, df_sales_target, on=['Category','Segment','month','year','datemask'], how='inner')\n",
    "df_final['sales_diff'] = round((df_final['sales_actual'] - df_final['sales_target']) / df_final['sales_target'] * 100,2)"
   ]
  },
  {
   "cell_type": "markdown",
   "metadata": {},
   "source": [
    "*Creating a dynamic dashboard of the actual sales vs target*"
   ]
  },
  {
   "cell_type": "code",
   "execution_count": 7,
   "metadata": {},
   "outputs": [
    {
     "data": {
      "application/vnd.jupyter.widget-view+json": {
       "model_id": "0e3e5f5c8df24bbf8489f822b384aaff",
       "version_major": 2,
       "version_minor": 0
      },
      "text/plain": [
       "interactive(children=(Dropdown(description='Year', options=('2019', '2020', '2021', '2022'), value='2019'), Dr…"
      ]
     },
     "metadata": {},
     "output_type": "display_data"
    }
   ],
   "source": [
    "@widgets.interact\n",
    "\n",
    "\n",
    "def create_diff_plot(Year = pd.unique(df_final['year']),\n",
    "                     Segment = pd.unique(df_final['Segment']),\n",
    "                     Category = pd.unique(df_final['Category']),\n",
    "                     MergeSegment = False):\n",
    "    \n",
    "    sns.set_style(\"ticks\",{'axes.grid' : True})\n",
    "    figure, axis = plt.subplots(2,1)\n",
    "    figure.set_figheight(12)\n",
    "    figure.set_figwidth(20)\n",
    "    if MergeSegment:\n",
    "        data_prep1 = df_final[(df_final['year'] == Year) & (df_final['Category'] == Category)]\n",
    "        data_prep1 = data_prep1.groupby(['month','datemask'],group_keys=False).sum().reset_index().sort_values(by=['datemask'], ascending=True)\n",
    "        data_prep1.loc[:,'sales_diff'] = round((data_prep1['sales_actual'] - data_prep1['sales_target']) / data_prep1['sales_target'] * 100,2)\n",
    "        graph1 = sns.barplot(data = data_prep1, x = 'month', y ='sales_diff', ax=axis[0])\n",
    "        axis[0].set_title(f'Monthly deviations from target, {Category}, {Year}')\n",
    "    else:\n",
    "        data_prep1 = df_final[(df_final['year'] == Year) & (df_final['Segment'] == Segment)]\n",
    "        graph1 = sns.barplot(data = data_prep1, x = 'month', y ='sales_diff', hue = 'Category', ax=axis[0])\n",
    "        axis[0].legend(loc=2, prop={'size': 13})\n",
    "        axis[0].set_title(f'Monthly deviations from target, {Segment}, {Year}')\n",
    "    \n",
    "    graph1.axhline(0, color = 'grey', linewidth=0.5)\n",
    "    xcoords = list(arange(0.5,12,1))\n",
    "    for xc in xcoords:\n",
    "        graph1.axvline(x=xc, color='grey', linewidth=0.5)\n",
    "    graph1.set(ylabel='Sales Difference, % of target', xlabel='Month')\n",
    "    graph1.set_yticks(list(arange(-15,55,5)))\n",
    "    for i in graph1.containers:\n",
    "        graph1.bar_label(i,)\n",
    "\n",
    "\n",
    "    data_prep2 = df_final[(df_final['year'] == Year) & (df_final['Segment'] == Segment) & (df_final['Category'] == Category)]\n",
    "    axis[1].plot(data_prep2['month'], data_prep2['sales_actual'], 'green', label = 'Actual Sales')\n",
    "    axis[1].plot(data_prep2['month'], data_prep2['sales_target'], 'b--', label = 'Target Sales')\n",
    "    axis[1].legend(loc=2, prop={'size': 13})\n",
    "    axis[1].set(ylabel='Sales Volume, $', xlabel='Month')\n",
    "    axis[1].set_title(f'Target and actual sales dinamics, {Category}, {Segment} segment, {Year}')\n",
    "    for x, y, z in zip(data_prep2['month'], data_prep2['sales_target'], data_prep2['sales_target']-data_prep2['sales_actual']):\n",
    "        plt.text(x = list(data_prep2['month']).index(x)+0.1 if z<0 else x,\n",
    "                 y = y+600 if z>0 else y-500,\n",
    "                 s = z)\n",
    "    fig_out = plt.gcf()\n",
    "    plt.show()\n",
    "    fig_out.savefig('dash.jpg')"
   ]
  },
  {
   "cell_type": "markdown",
   "metadata": {},
   "source": [
    "*A little bit of prediction with time series analysis (difference of logarithms is used to increase the chance of stationarity in data by omitting stochastic trends)*"
   ]
  },
  {
   "cell_type": "code",
   "execution_count": 8,
   "metadata": {},
   "outputs": [
    {
     "name": "stderr",
     "output_type": "stream",
     "text": [
      "/var/folders/lf/s97_46wj3fj7npt_h0dbnnrh0000gn/T/ipykernel_44599/1764662721.py:1: FutureWarning: The default value of numeric_only in DataFrameGroupBy.sum is deprecated. In a future version, numeric_only will default to False. Either specify numeric_only or select only columns which should be valid for the function.\n",
      "  df_prediction = df_final.groupby(['datemask']).sum().reset_index()[['datemask','sales_actual','sales_target']]\n"
     ]
    },
    {
     "data": {
      "text/plain": [
       "<Figure size 640x400 with 0 Axes>"
      ]
     },
     "execution_count": 8,
     "metadata": {},
     "output_type": "execute_result"
    },
    {
     "data": {
      "text/plain": [
       "[<matplotlib.lines.Line2D at 0x12bfaf580>]"
      ]
     },
     "execution_count": 8,
     "metadata": {},
     "output_type": "execute_result"
    },
    {
     "data": {
      "text/plain": [
       "[<matplotlib.lines.Line2D at 0x12c5b2050>]"
      ]
     },
     "execution_count": 8,
     "metadata": {},
     "output_type": "execute_result"
    },
    {
     "data": {
      "text/plain": [
       "Text(0.5, 1.0, 'Actual vs predicted sales for 2022')"
      ]
     },
     "execution_count": 8,
     "metadata": {},
     "output_type": "execute_result"
    },
    {
     "data": {
      "text/plain": [
       "Text(0.5, 0, 'date')"
      ]
     },
     "execution_count": 8,
     "metadata": {},
     "output_type": "execute_result"
    },
    {
     "data": {
      "text/plain": [
       "Text(0, 0.5, 'Log change in sales')"
      ]
     },
     "execution_count": 8,
     "metadata": {},
     "output_type": "execute_result"
    },
    {
     "data": {
      "text/plain": [
       "<matplotlib.legend.Legend at 0x12bfac070>"
      ]
     },
     "execution_count": 8,
     "metadata": {},
     "output_type": "execute_result"
    },
    {
     "data": {
      "image/png": "[encoded data removed]",
      "text/plain": [
       "<Figure size 640x400 with 1 Axes>"
      ]
     },
     "metadata": {},
     "output_type": "display_data"
    }
   ],
   "source": [
    "df_prediction = df_final.groupby(['datemask']).sum().reset_index()[['datemask','sales_actual','sales_target']]\n",
    "df_prediction.loc[:,'sales_act_log'] = list(map(lambda x: math.log(x), list(df_prediction.loc[:,'sales_actual'])))\n",
    "df_prediction.loc[:,'sales_act_log_ts'] = [0]+list(diff(df_prediction.loc[:,'sales_act_log']))\n",
    "\n",
    "with warnings.catch_warnings():\n",
    "    warnings.simplefilter('ignore')\n",
    "\n",
    "    arima_model = ARIMA(df_prediction['sales_act_log_ts'][:36], order=(3,1,6))\n",
    "    model = arima_model.fit()\n",
    "    predictions = model.forecast(steps=12)\n",
    "\n",
    "\n",
    "    plt.figure(figsize=(8, 5), dpi=80)\n",
    "    plt.plot(df_prediction['datemask'][36:], predictions, color='blue', label = 'prediction')\n",
    "    plt.plot(df_prediction['datemask'][36:], df_prediction['sales_act_log_ts'][36:], color='orange', label='actual')\n",
    "    plt.title('Actual vs predicted sales for 2022')\n",
    "    plt.xlabel('date')\n",
    "    plt.ylabel('Log change in sales')\n",
    "    plt.legend()\n",
    "    plt.savefig('Forecast.jpg')\n",
    "    plt.show()\n"
   ]
  }
 ],
 "metadata": {
  "kernelspec": {
   "display_name": "Python 3.10.1 64-bit",
   "language": "python",
   "name": "python3"
  },
  "language_info": {
   "codemirror_mode": {
    "name": "ipython",
    "version": 3
   },
   "file_extension": ".py",
   "mimetype": "text/x-python",
   "name": "python",
   "nbconvert_exporter": "python",
   "pygments_lexer": "ipython3",
   "version": "3.10.1"
  },
  "orig_nbformat": 4,
  "vscode": {
   "interpreter": {
    "hash": "44a9cdcbdccbf05a880e90d2e6fe72470baab4d1b82472d890be0596ed887a6b"
   }
  }
 },
 "nbformat": 4,
 "nbformat_minor": 2
}
